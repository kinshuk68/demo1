{
 "cells": [
  {
   "cell_type": "code",
   "execution_count": null,
   "id": "e3035ab4",
   "metadata": {},
   "outputs": [],
   "source": [
    "ANSWER 1\n",
    "5\tINTEGER  TYPE\n",
    "5.0\tFLOATING  DATA TYPE\n",
    "5 > 1\tBOOLEAN TYPE \n",
    "'5'\tSTRING  TYPE\n",
    "5 * 2\tINTEGER TYPE \n",
    "'5' * 2\tSTRING  TYPE \n",
    "'5' + '2'\tSTRING  TYPE\n",
    "5 / 2\tFLOATING DATA TYPE \n",
    "5% 2\tINTEGER  TYPE (1)\n",
    "{5, 2, 1}\tSET\n",
    "5== 3\tBOOLEAN  TYPE\n",
    "Pi(thenumber)\tFLOATING  DATA TYPE"
   ]
  },
  {
   "cell_type": "code",
   "execution_count": null,
   "id": "fa6ff568",
   "metadata": {},
   "outputs": [],
   "source": [
    "ANSWER2\n",
    ":- word= 'Supercalifragilisticexpialidocious'\n",
    "print(len(word))\n",
    ":-word='Supercalifragilisticexpialidocious'\n",
    "\"ice\" in word\n",
    ":-words = [\"Supercalifragilisticexpialidocious\", \"Honorificabilitudinitatibus\", \"Bababadalgharaghtakamminarronnkonn\"]\n",
    "longest=max(words, key=len)\n",
    "print(\"The Longest Word is :\",longest)"
   ]
  },
  {
   "cell_type": "code",
   "execution_count": null,
   "id": "694006cd",
   "metadata": {},
   "outputs": [],
   "source": [
    "ANSWER3\n",
    "a=int(input(\"enter  side a: \"))\n",
    "b=int(input(\"enter side b: \"))\n",
    "c=int(input(\"enter side c: \"))\n",
    "\n",
    "import math\n",
    "\n",
    "s=(a+b+c)/2 \n",
    "\n",
    "areaoftriangle=math.sqrt(s*(s-a)*(s-b)*(s-c)) \n",
    "\n",
    "print(areaoftriangle)"
   ]
  },
  {
   "cell_type": "code",
   "execution_count": null,
   "id": "db2821e3",
   "metadata": {},
   "outputs": [],
   "source": [
    "ANSWER4\n",
    "def evenandodd(E):\n",
    "    evennumber = []\n",
    "    oddnumber=[]\n",
    "    for i in E:\n",
    "      if(i%2 == 0):\n",
    "         evennumber.append(i)\n",
    "      else:\n",
    "        oddnumber.append(i)\n",
    "    print(\"The even  are : \" , evennumber)\n",
    "    print(\"The odd  are : \", oddnumber)\n",
    "            \n",
    "E=list()\n",
    "n=int(input(\"enter the  elements to be stored in the array:  \"))\n",
    "print(\"enter the element : \")\n",
    "for i in range(int(n)):\n",
    "    J=int(input(\"\"))\n",
    "    E.append(J)\n",
    "evenandodd(E)"
   ]
  },
  {
   "cell_type": "code",
   "execution_count": null,
   "id": "ffd9bb1f",
   "metadata": {},
   "outputs": [],
   "source": [
    "ANSWER 5\n",
    "def inside(x,y,x1,y1,x2,y2):\n",
    "    return(x<x2 and x>x1 and y<y2 and y>y1)\n",
    "inside(1,1,0,0,2,3)\n",
    ":- expr = lambda x,y: inside(x,y,0.3, 0.5,1.1, 0.7) and  inside(x,y,0.5, 0.2,1.1, 2)"
   ]
  },
  {
   "cell_type": "code",
   "execution_count": null,
   "id": "c5a73804",
   "metadata": {},
   "outputs": [],
   "source": [
    "ANSWER7\n",
    "file_path = \"Downloads/bloodtype1.txt\"\n",
    "blood_type_counts = {'A': 0, 'B': 0, 'AB': 0, 'O': 0 ,'OO':0}\n",
    "with open(file_path, 'r') as file:\n",
    "\n",
    "    for line in file:\n",
    "        print(line)\n",
    "        blood_type = line.split()\n",
    "        for blood_group in blood_type:\n",
    "            blood_type_counts[blood_group] = blood_type_counts[blood_group]+1\n",
    "for key,values in  blood_type_counts.items():\n",
    "    print(f\"There are {values} patients of blood type {key}\")"
   ]
  },
  {
   "cell_type": "code",
   "execution_count": null,
   "id": "8cffe6c5",
   "metadata": {},
   "outputs": [],
   "source": [
    "ANSWE8\n",
    "dict_currency={}\n",
    "file_path = \"Downloads/currencies.txt\"\n",
    "with open(file_path, 'r') as file:\n",
    "    for line in file:\n",
    "        cur_details = line.split('\\t')\n",
    "        key=cur_details[0]\n",
    "        values=cur_details[1:]\n",
    "        dict_currency[key]=values\n",
    "#print(dict_currency)\n",
    "\n",
    "def currconv(curr,amount):\n",
    "    print(float(dict_currency[curr][0])*amount)\n",
    "\n",
    "currconv('EUR',100)\n",
    "currconv('JPY',100)"
   ]
  }
 ],
 "metadata": {
  "kernelspec": {
   "display_name": "Python 3 (ipykernel)",
   "language": "python",
   "name": "python3"
  },
  "language_info": {
   "codemirror_mode": {
    "name": "ipython",
    "version": 3
   },
   "file_extension": ".py",
   "mimetype": "text/x-python",
   "name": "python",
   "nbconvert_exporter": "python",
   "pygments_lexer": "ipython3",
   "version": "3.11.4"
  }
 },
 "nbformat": 4,
 "nbformat_minor": 5
}
